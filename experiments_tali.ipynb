{
 "cells": [
  {
   "cell_type": "code",
   "execution_count": 5,
   "metadata": {},
   "outputs": [
    {
     "name": "stdout",
     "output_type": "stream",
     "text": [
      "found id in tali that is not in alisa 311709\n",
      "found id in tali that is not in alisa 313135\n",
      "found id in tali that is not in alisa 315675\n",
      "found id in tali that is not in alisa 290656\n",
      "found id in alisa that is not in tali 321011\n",
      "found id in alisa that is not in tali 337763\n",
      "found id in alisa that is not in tali 354881\n",
      "found id in alisa that is not in tali 369418\n"
     ]
    }
   ],
   "source": [
    "import pandas as pd\n",
    "import os"
   ]
  },
  {
   "cell_type": "code",
   "execution_count": 6,
   "metadata": {},
   "outputs": [],
   "source": [
    "dataset_directory = \"Falls\"\n",
    "path_entities_tali = os.path.join(dataset_directory, \"entities.csv\")\n",
    "path_entities_alisa = os.path.join(dataset_directory, \"entities_alisa.csv\")\n",
    "\n",
    "entities_tali = pd.read_csv(path_entities_tali)\n",
    "entities_alisa = pd.read_csv(path_entities_alisa)"
   ]
  },
  {
   "cell_type": "code",
   "execution_count": 7,
   "metadata": {},
   "outputs": [],
   "source": [
    "tali_ids = entities_tali[entities_tali['Class'] == 0]['id'].to_list()\n",
    "alisa_ids = entities_alisa[entities_alisa['ClassID'] == 0]['EntityID'].to_list()"
   ]
  },
  {
   "cell_type": "code",
   "execution_count": 8,
   "metadata": {},
   "outputs": [
    {
     "name": "stdout",
     "output_type": "stream",
     "text": [
      "class 0 id in tali, not in alisa:\n",
      "[311709, 313135, 315675, 290656]\n",
      "class 0 id in alisa, not in tali:\n",
      "[321011, 337763, 354881, 369418]\n"
     ]
    }
   ],
   "source": [
    "print(\"class 0 id in tali, not in alisa:\")\n",
    "ids = []\n",
    "for id in tali_ids:\n",
    "    if id not in alisa_ids:\n",
    "        ids.append(id)\n",
    "print(ids)\n",
    "\n",
    "print(\"class 0 id in alisa, not in tali:\")\n",
    "ids = []\n",
    "for id in alisa_ids:\n",
    "    if id not in tali_ids:\n",
    "        ids.append(id)\n",
    "print(ids)"
   ]
  },
  {
   "cell_type": "code",
   "execution_count": 9,
   "metadata": {},
   "outputs": [],
   "source": [
    "tali_ids = entities_tali[entities_tali['Class'] == 1]['id'].to_list()\n",
    "alisa_ids = entities_alisa[entities_alisa['ClassID'] == 1]['EntityID'].to_list()"
   ]
  },
  {
   "cell_type": "code",
   "execution_count": 10,
   "metadata": {},
   "outputs": [
    {
     "name": "stdout",
     "output_type": "stream",
     "text": [
      "class 1 id in tali, not in alisa:\n",
      "[125, 7344, 7363, 8170]\n",
      "class 1 id in alisa, not in tali:\n",
      "[2737, 3810, 4620, 7234]\n"
     ]
    }
   ],
   "source": [
    "print(\"class 1 id in tali, not in alisa:\")\n",
    "ids = []\n",
    "for id in tali_ids:\n",
    "    if id not in alisa_ids:\n",
    "        ids.append(id)\n",
    "print(ids)\n",
    "\n",
    "print(\"class 1 id in alisa, not in tali:\")\n",
    "ids = []\n",
    "for id in alisa_ids:\n",
    "    if id not in tali_ids:\n",
    "        ids.append(id)\n",
    "print(ids)"
   ]
  },
  {
   "cell_type": "code",
   "execution_count": null,
   "metadata": {},
   "outputs": [],
   "source": []
  }
 ],
 "metadata": {
  "interpreter": {
   "hash": "e3730ab230a8b9897db01ddbce9e3813e53284a96c7ecd69e8296ff8864b7190"
  },
  "kernelspec": {
   "display_name": "Python 3.7.3 ('base')",
   "language": "python",
   "name": "python3"
  },
  "language_info": {
   "codemirror_mode": {
    "name": "ipython",
    "version": 3
   },
   "file_extension": ".py",
   "mimetype": "text/x-python",
   "name": "python",
   "nbconvert_exporter": "python",
   "pygments_lexer": "ipython3",
   "version": "3.7.3"
  },
  "orig_nbformat": 4
 },
 "nbformat": 4,
 "nbformat_minor": 2
}

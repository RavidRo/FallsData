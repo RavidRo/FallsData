{
 "cells": [
  {
   "cell_type": "code",
   "execution_count": 1,
   "metadata": {},
   "outputs": [],
   "source": [
    "import pandas as pd"
   ]
  },
  {
   "cell_type": "code",
   "execution_count": 2,
   "metadata": {},
   "outputs": [],
   "source": [
    "dataset_directory = \"Falls\"\n",
    "data_directory = \"data\""
   ]
  },
  {
   "cell_type": "code",
   "execution_count": 12,
   "metadata": {},
   "outputs": [],
   "source": [
    "entities_imported = pd.read_csv(data_directory + \"/WithClasses/entities_raw_data.csv\")\n",
    "raw_data_imported = pd.read_csv(data_directory + \"/WithClasses/sampleDF.csv\")\n",
    "# raw_data_imported = pd.read_csv(data_directory + \"/WithClasses/original_data.csv\")\n",
    "properties_imported = pd.read_excel(data_directory + \"/fall_properties.xlsx\")"
   ]
  },
  {
   "cell_type": "code",
   "execution_count": 11,
   "metadata": {},
   "outputs": [
    {
     "data": {
      "text/plain": [
       "87"
      ]
     },
     "execution_count": 11,
     "metadata": {},
     "output_type": "execute_result"
    }
   ],
   "source": [
    "entitiesIds = raw_data_imported[\"EntityID\"].unique()\n",
    "len(entitiesIds)\n",
    "\n",
    "raw_data = raw_data_imported[[\"TemporalPropertyID\", \"TemporalPropertyValue\"]]\n",
    "raw_data = raw_data[raw_data[\"TemporalPropertyID\"] == -1]\n",
    "raw_data.groupby(\"TemporalPropertyValue\").count()\n",
    "\n",
    "properties_ids = raw_data_imported[\"TemporalPropertyID\"].unique()\n",
    "len(properties_ids)\n"
   ]
  },
  {
   "cell_type": "code",
   "execution_count": 29,
   "metadata": {},
   "outputs": [
    {
     "data": {
      "text/plain": [
       "29"
      ]
     },
     "execution_count": 29,
     "metadata": {},
     "output_type": "execute_result"
    }
   ],
   "source": [
    "# len(properties_imported[\"tpid\"].unique())\n",
    "properties = properties_imported[[\"tpid\", \"meaning\"]]\n",
    "named_properties = properties.drop_duplicates().dropna()\n",
    "\n",
    "unnamed_properties = set(properties_ids).difference(set(named_properties[\"tpid\"]))\n",
    "len(set(properties_ids).difference(unnamed_properties))"
   ]
  },
  {
   "cell_type": "code",
   "execution_count": 37,
   "metadata": {},
   "outputs": [
    {
     "data": {
      "text/plain": [
       "False"
      ]
     },
     "execution_count": 37,
     "metadata": {},
     "output_type": "execute_result"
    }
   ],
   "source": [
    "raw_data_entities = raw_data_imported[\"EntityID\"].unique()\n",
    "entities_entities = entities_imported[\"EntityID\"].unique()\n",
    "len(entities_entities)\n",
    "\n",
    "set(raw_data_entities).issubset(set(entities_entities))"
   ]
  }
 ],
 "metadata": {
  "interpreter": {
   "hash": "54c60dc9c1916b4b39566a83f20624dcb6ebf2b04ac19c6971bb1f2293ea8794"
  },
  "kernelspec": {
   "display_name": "Python 3.9.7 64-bit ('venv': venv)",
   "language": "python",
   "name": "python3"
  },
  "language_info": {
   "codemirror_mode": {
    "name": "ipython",
    "version": 3
   },
   "file_extension": ".py",
   "mimetype": "text/x-python",
   "name": "python",
   "nbconvert_exporter": "python",
   "pygments_lexer": "ipython3",
   "version": "3.9.9"
  },
  "orig_nbformat": 4
 },
 "nbformat": 4,
 "nbformat_minor": 2
}

{
 "cells": [
  {
   "cell_type": "code",
   "execution_count": 50,
   "metadata": {},
   "outputs": [],
   "source": [
    "import pandas as pd\n",
    "import os"
   ]
  },
  {
   "cell_type": "code",
   "execution_count": 51,
   "metadata": {},
   "outputs": [],
   "source": [
    "dataset_directory = \"Falls\"\n",
    "two_classes_directory = \"time_window_data\"\n",
    "data_directory = \"data\"\n",
    "path = os.path.join(data_directory, two_classes_directory)\n"
   ]
  },
  {
   "cell_type": "code",
   "execution_count": 52,
   "metadata": {},
   "outputs": [],
   "source": [
    "entities_imported = pd.read_csv(data_directory + \"/Alisa-Wiered-Not-Balanced-Example-Help/entitiy_info_windows_filter.csv\")\n",
    "raw_data_imported = pd.read_csv(data_directory + \"/Alisa-Wiered-Not-Balanced-Example-Help/hogo_data_windows_filter.csv\")\n",
    "properties_imported = pd.read_excel(data_directory + \"/fall_properties.xlsx\")"
   ]
  },
  {
   "cell_type": "code",
   "execution_count": null,
   "metadata": {},
   "outputs": [],
   "source": []
  },
  {
   "cell_type": "code",
   "execution_count": 53,
   "metadata": {},
   "outputs": [],
   "source": [
    "def create_vmap(properties):\n",
    "    properties = properties[[\"tpid\", \"meaning\"]]\n",
    "    properties = properties.drop_duplicates().fillna(\"\")\n",
    "    properties = properties.rename(columns={\"tpid\": \"Variable ID\", \"meaning\": \"Variable Name\"})\n",
    "    properties = properties.append({\"Variable ID\": -1, \"Variable Name\": \"fell\"}, ignore_index=True)\n",
    "\n",
    "    properties[\"Description\"] = properties[\"Variable Name\"]\n",
    "\n",
    "    return properties\n",
    "\n",
    "\n",
    "def filter_vmap(properties, raw_data):\n",
    "    properties_ids = raw_data[\"TemporalPropertyID\"].drop_duplicates().to_list()\n",
    "    properties = properties[properties[\"Variable ID\"].isin(properties_ids)]\n",
    "\n",
    "    return properties\n"
   ]
  },
  {
   "cell_type": "code",
   "execution_count": 54,
   "metadata": {},
   "outputs": [],
   "source": [
    "raw_data = raw_data_imported[[\"EntityID\", \"TemporalPropertyID\", \"TimeStamp\", \"TemporalPropertyValue\"]]\n",
    "vmap = create_vmap(properties_imported)\n",
    "entities = entities_imported[[\"EntityID\", \"Gender\", \"Age\", \"AgeRange\", \"Score\", \"Fall\"]]\n",
    "entities = entities.rename(columns={\"EntityID\": \"id\"})\n",
    "vmap_filtered = filter_vmap(vmap, raw_data)\n"
   ]
  },
  {
   "cell_type": "code",
   "execution_count": 55,
   "metadata": {},
   "outputs": [],
   "source": [
    "entities.to_csv(index=False, path_or_buf=data_directory + \"/Alisa-Wiered-Not-Balanced-Example-Help/entities.csv\")\n",
    "raw_data.to_csv(index=False, path_or_buf=data_directory + \"/Alisa-Wiered-Not-Balanced-Example-Help/raw_data.csv\")\n",
    "vmap_filtered.to_csv(index=False, path_or_buf=data_directory + \"/Alisa-Wiered-Not-Balanced-Example-Help/vmap.csv\")"
   ]
  },
  {
   "cell_type": "code",
   "execution_count": 57,
   "metadata": {},
   "outputs": [
    {
     "data": {
      "text/plain": [
       "[1,\n",
       " 2,\n",
       " 3,\n",
       " 4,\n",
       " 5,\n",
       " 6,\n",
       " 7,\n",
       " 8,\n",
       " 9,\n",
       " 10,\n",
       " 11,\n",
       " 12,\n",
       " 13,\n",
       " 14,\n",
       " 15,\n",
       " 16,\n",
       " 17,\n",
       " 18,\n",
       " 19,\n",
       " 20,\n",
       " 21,\n",
       " 22,\n",
       " 23,\n",
       " 24,\n",
       " 25,\n",
       " 26,\n",
       " 27,\n",
       " 28,\n",
       " 29,\n",
       " 30,\n",
       " 31,\n",
       " 32,\n",
       " 33,\n",
       " 34,\n",
       " 35,\n",
       " 36,\n",
       " 37,\n",
       " 38,\n",
       " 39,\n",
       " 40,\n",
       " 41,\n",
       " 42,\n",
       " 43,\n",
       " 44,\n",
       " 45,\n",
       " 46]"
      ]
     },
     "execution_count": 57,
     "metadata": {},
     "output_type": "execute_result"
    }
   ],
   "source": [
    "vmap[vmap[\"Variable Name\"] == \"\"][\"Variable ID\"].to_list()"
   ]
  },
  {
   "cell_type": "code",
   "execution_count": null,
   "metadata": {},
   "outputs": [],
   "source": []
  }
 ],
 "metadata": {
  "interpreter": {
   "hash": "54c60dc9c1916b4b39566a83f20624dcb6ebf2b04ac19c6971bb1f2293ea8794"
  },
  "kernelspec": {
   "display_name": "Python 3.9.7 64-bit ('venv': venv)",
   "language": "python",
   "name": "python3"
  },
  "language_info": {
   "codemirror_mode": {
    "name": "ipython",
    "version": 3
   },
   "file_extension": ".py",
   "mimetype": "text/x-python",
   "name": "python",
   "nbconvert_exporter": "python",
   "pygments_lexer": "ipython3",
   "version": "3.9.7"
  },
  "orig_nbformat": 4
 },
 "nbformat": 4,
 "nbformat_minor": 2
}

{
 "cells": [
  {
   "cell_type": "code",
   "execution_count": 3,
   "metadata": {},
   "outputs": [],
   "source": [
    "import pandas as pd\n",
    "import os"
   ]
  },
  {
   "cell_type": "code",
   "execution_count": 6,
   "metadata": {},
   "outputs": [],
   "source": [
    "dataset_directory = \"Falls\"\n",
    "two_classes_directory = \"time_window_data\"\n",
    "data_directory = \"data\"\n",
    "path = os.path.join(data_directory, two_classes_directory)\n"
   ]
  },
  {
   "cell_type": "code",
   "execution_count": 8,
   "metadata": {},
   "outputs": [],
   "source": [
    "entities_imported = pd.read_csv(path + \"/entities_info_windows.csv\")\n",
    "raw_data_imported = pd.read_csv(path + \"/hogo_data_windows.csv\")\n",
    "properties_imported = pd.read_csv(path + \"/fall_properties.csv\")"
   ]
  },
  {
   "cell_type": "code",
   "execution_count": 14,
   "metadata": {},
   "outputs": [
    {
     "data": {
      "text/plain": [
       "77"
      ]
     },
     "execution_count": 14,
     "metadata": {},
     "output_type": "execute_result"
    }
   ],
   "source": [
    "entitiesIds = raw_data_imported[\"EntityID\"].unique()\n",
    "len(entitiesIds)\n",
    "\n",
    "raw_data = raw_data_imported[[\"TemporalPropertyID\", \"TemporalPropertyValue\"]]\n",
    "raw_data = raw_data[raw_data[\"TemporalPropertyID\"] == -1]\n",
    "raw_data.groupby(\"TemporalPropertyValue\").count()\n",
    "\n",
    "properties_ids = raw_data_imported[\"TemporalPropertyID\"].unique()\n",
    "len(properties_ids)\n"
   ]
  },
  {
   "cell_type": "code",
   "execution_count": 17,
   "metadata": {},
   "outputs": [
    {
     "data": {
      "text/plain": [
       "47"
      ]
     },
     "execution_count": 17,
     "metadata": {},
     "output_type": "execute_result"
    }
   ],
   "source": [
    "# len(properties_imported[\"tpid\"].unique())\n",
    "properties = properties_imported[[\"tpid\", \"meaning\"]]\n",
    "named_properties = properties.drop_duplicates().dropna()\n",
    "# len(named_properties)\n",
    "unnamed_properties = set(properties_ids).difference(set(named_properties[\"tpid\"]))\n",
    "# len(set(properties_ids).difference(unnamed_properties))\n",
    "len(unnamed_properties)"
   ]
  },
  {
   "cell_type": "code",
   "execution_count": 23,
   "metadata": {},
   "outputs": [
    {
     "data": {
      "text/plain": [
       "11986"
      ]
     },
     "execution_count": 23,
     "metadata": {},
     "output_type": "execute_result"
    }
   ],
   "source": [
    "# raw_data_entities = raw_data_imported[\"EntityID\"].unique()\n",
    "entities_entities = entities_imported[\"PersonID\"].unique()\n",
    "len(entities_entities)\n",
    "11986\n",
    "# set(raw_data_entities).issubset(set(entities_entities))"
   ]
  },
  {
   "cell_type": "code",
   "execution_count": 24,
   "metadata": {},
   "outputs": [
    {
     "data": {
      "text/plain": [
       "8.49474386784582"
      ]
     },
     "execution_count": 24,
     "metadata": {},
     "output_type": "execute_result"
    }
   ],
   "source": [
    "101818 / 11986"
   ]
  }
 ],
 "metadata": {
  "interpreter": {
   "hash": "54c60dc9c1916b4b39566a83f20624dcb6ebf2b04ac19c6971bb1f2293ea8794"
  },
  "kernelspec": {
   "display_name": "Python 3.9.7 64-bit ('venv': venv)",
   "language": "python",
   "name": "python3"
  },
  "language_info": {
   "codemirror_mode": {
    "name": "ipython",
    "version": 3
   },
   "file_extension": ".py",
   "mimetype": "text/x-python",
   "name": "python",
   "nbconvert_exporter": "python",
   "pygments_lexer": "ipython3",
   "version": "3.8.3"
  },
  "orig_nbformat": 4
 },
 "nbformat": 4,
 "nbformat_minor": 2
}

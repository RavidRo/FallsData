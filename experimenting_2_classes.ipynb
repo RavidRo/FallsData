{
 "cells": [
  {
   "cell_type": "code",
   "execution_count": 2,
   "metadata": {},
   "outputs": [],
   "source": [
    "import pandas as pd"
   ]
  },
  {
   "cell_type": "code",
   "execution_count": 3,
   "metadata": {},
   "outputs": [],
   "source": [
    "dataset_directory = \"Falls\"\n",
    "data_directory = \"data\""
   ]
  },
  {
   "cell_type": "code",
   "execution_count": 4,
   "metadata": {},
   "outputs": [],
   "source": [
    "entities_imported = pd.read_csv(data_directory + \"/WithClasses/entities_raw_data.csv\")\n",
    "raw_data_imported = pd.read_csv(data_directory + \"/WithClasses/original_data.csv\")\n",
    "# properties_imported = pd.read_excel(data_directory + \"/fall_properties.xlsx\")"
   ]
  },
  {
   "cell_type": "code",
   "execution_count": 59,
   "metadata": {},
   "outputs": [
    {
     "data": {
      "text/plain": [
       "81507"
      ]
     },
     "execution_count": 59,
     "metadata": {},
     "output_type": "execute_result"
    }
   ],
   "source": [
    "entities_imported.head()\n",
    "entities_imported[\"EntityID\"].drop_duplicates().count()\n",
    "# entities_imported[\"Unnamed: 0\"]\n",
    "# entities_imported"
   ]
  },
  {
   "cell_type": "code",
   "execution_count": 68,
   "metadata": {},
   "outputs": [
    {
     "data": {
      "text/plain": [
       "82"
      ]
     },
     "execution_count": 68,
     "metadata": {},
     "output_type": "execute_result"
    }
   ],
   "source": [
    "# raw_data = raw_data_imported[[\"TemporalPropertyID\", \"TemporalPropertyValue\"]]\n",
    "# raw_data = raw_data[raw_data[\"TemporalPropertyID\"] == -1]\n",
    "# raw_data.groupby([\"TemporalPropertyValue\"]).count()\n",
    "# len()\n",
    "\n",
    "# raw_data = raw_data_imported[[\"Unnamed: 0.1\", \"\"TemporalPropertyID\"]]\n",
    "# print(len(raw_data))\n",
    "# raw_data = raw_data.drop_duplicates()\n",
    "# print(len(raw_data))\n",
    "# raw_data = raw_data_imported[[\"EntityID\"]].drop_duplicates()\n",
    "# raw_data[raw_data[\"EntityID\"].isin(entities_list)]\n",
    "falls_ids = [78, 79, 80, 81, 82]\n",
    "raw_data = raw_data_imported[[\"TemporalPropertyID\"]]\n",
    "raw_data = raw_data[~raw_data[\"TemporalPropertyID\"].isin(falls_ids)]\n",
    "len(raw_data.TemporalPropertyID.unique())\n",
    "# raw_data_imported.TemporalPropertyID.unique()\n",
    "\n",
    "# raw_data_imported[raw_data_imported[\"TemporalPropertyID\"] == -1]\n"
   ]
  },
  {
   "cell_type": "code",
   "execution_count": null,
   "metadata": {},
   "outputs": [],
   "source": []
  }
 ],
 "metadata": {
  "interpreter": {
   "hash": "54c60dc9c1916b4b39566a83f20624dcb6ebf2b04ac19c6971bb1f2293ea8794"
  },
  "kernelspec": {
   "display_name": "Python 3.9.7 64-bit ('venv': venv)",
   "language": "python",
   "name": "python3"
  },
  "language_info": {
   "codemirror_mode": {
    "name": "ipython",
    "version": 3
   },
   "file_extension": ".py",
   "mimetype": "text/x-python",
   "name": "python",
   "nbconvert_exporter": "python",
   "pygments_lexer": "ipython3",
   "version": "3.9.7"
  },
  "orig_nbformat": 4
 },
 "nbformat": 4,
 "nbformat_minor": 2
}
